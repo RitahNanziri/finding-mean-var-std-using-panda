{
 "cells": [
  {
   "cell_type": "code",
   "execution_count": 5,
   "metadata": {},
   "outputs": [],
   "source": [
    "#importing panda library\n",
    "#panda uses\n",
    "#excel file format, csv file format,txt file format\n",
    "\n"
   ]
  },
  {
   "cell_type": "code",
   "execution_count": 6,
   "metadata": {},
   "outputs": [],
   "source": [
    "import pandas as pd"
   ]
  },
  {
   "cell_type": "code",
   "execution_count": 7,
   "metadata": {},
   "outputs": [],
   "source": [
    "#create a dataframe called df"
   ]
  },
  {
   "cell_type": "code",
   "execution_count": 8,
   "metadata": {},
   "outputs": [
    {
     "name": "stdout",
     "output_type": "stream",
     "text": [
      "    S/N                      Name  Age  Height  Weight\n",
      "0     1            Adokorac Nancy   20  177.80      74\n",
      "1     2   Amutuhaire Faith Ahabwe   27  157.50      47\n",
      "2     3     KWAGALA JOANNA VICTOR   21  210.82      54\n",
      "3     4              mahoro cathy   23  187.96      30\n",
      "4     5  Mbabazi Hawa Bint Edrisa   19  175.25      59\n",
      "5     6       Nakanjako josephine   24  175.25      65\n",
      "6     7            Nanteza Dorcus   21  157.48      69\n",
      "7     8             Mbabazi Angel   19  167.64      57\n",
      "8     9            Namara Racheal   19  154.94      55\n",
      "9    10       Lwamulungi Sheillah   22  162.56      78\n",
      "10   11           Nakawuka Sandra   25  175.25      60\n",
      "11   12   Achola Gloria Fortunate   27  172.72      80\n",
      "12   13             Nagawa Esther   21  187.96      58\n",
      "13   14           wanjiku hananny   19  165.10      50\n",
      "14   15            babirye Sandra   21  175.25      50\n",
      "15   16          nakagga shanitah   21  175.25      50\n",
      "16   17    Wembabazi Vivian Ritah   20  160.02      49\n",
      "17   18   Nanziri Ritah Namayanja   23  162.56      70\n",
      "18   19            Nasejje Mariam   20  101.60      62\n",
      "19   20  Namukose Jolline Edriana   20  162.56      55\n",
      "20   21      Agatha Faith Anyango   27   93.98      55\n",
      "21   22              Kirabo Sarah   23  165.10      60\n",
      "22   23          Nansalire Anitah   21   63.50      45\n",
      "23   24             Nalugo gladys   19  101.60      70\n",
      "24   25            Namakula Allen   20  170.18      55\n",
      "25   26           Tukahirwa emily   22  175.26      67\n",
      "26   27            Shamirah Ahmed   21  137.16      67\n",
      "27   28          Ameso lmmaculate   23  165.10      64\n",
      "28   29                Ayoo Teddy   20  157.48      50\n",
      "29   30                Biira Mary   30  104.14      65\n",
      "30   31        Aloyo Brenda Ojera   23  170.18      52\n",
      "31   32        Ayebale Immaculate   24  162.56      50\n"
     ]
    }
   ],
   "source": [
    "df=pd.read_excel(r\"c:\\Users\\lenovo yoga 11e\\Desktop\\WITU COHORT 3\\YEAR ONE\\SEMESTER ONE\\introduction to data science and machine learning\\data\\dataset.xlsx.xlsx\")\n",
    "\n",
    "print(df)"
   ]
  },
  {
   "cell_type": "code",
   "execution_count": 9,
   "metadata": {},
   "outputs": [],
   "source": [
    "df['Height']=pd.to_numeric(df['Height'], errors='coerce')\n",
    "df.dropna(subset=['Height'], inplace=True)"
   ]
  },
  {
   "cell_type": "code",
   "execution_count": 10,
   "metadata": {},
   "outputs": [
    {
     "data": {
      "text/html": [
       "<div>\n",
       "<style scoped>\n",
       "    .dataframe tbody tr th:only-of-type {\n",
       "        vertical-align: middle;\n",
       "    }\n",
       "\n",
       "    .dataframe tbody tr th {\n",
       "        vertical-align: top;\n",
       "    }\n",
       "\n",
       "    .dataframe thead th {\n",
       "        text-align: right;\n",
       "    }\n",
       "</style>\n",
       "<table border=\"1\" class=\"dataframe\">\n",
       "  <thead>\n",
       "    <tr style=\"text-align: right;\">\n",
       "      <th></th>\n",
       "      <th>S/N</th>\n",
       "      <th>Name</th>\n",
       "      <th>Age</th>\n",
       "      <th>Height</th>\n",
       "      <th>Weight</th>\n",
       "    </tr>\n",
       "  </thead>\n",
       "  <tbody>\n",
       "    <tr>\n",
       "      <th>22</th>\n",
       "      <td>23</td>\n",
       "      <td>Nansalire Anitah</td>\n",
       "      <td>21</td>\n",
       "      <td>63.50</td>\n",
       "      <td>45</td>\n",
       "    </tr>\n",
       "    <tr>\n",
       "      <th>23</th>\n",
       "      <td>24</td>\n",
       "      <td>Nalugo gladys</td>\n",
       "      <td>19</td>\n",
       "      <td>101.60</td>\n",
       "      <td>70</td>\n",
       "    </tr>\n",
       "    <tr>\n",
       "      <th>24</th>\n",
       "      <td>25</td>\n",
       "      <td>Namakula Allen</td>\n",
       "      <td>20</td>\n",
       "      <td>170.18</td>\n",
       "      <td>55</td>\n",
       "    </tr>\n",
       "    <tr>\n",
       "      <th>25</th>\n",
       "      <td>26</td>\n",
       "      <td>Tukahirwa emily</td>\n",
       "      <td>22</td>\n",
       "      <td>175.26</td>\n",
       "      <td>67</td>\n",
       "    </tr>\n",
       "    <tr>\n",
       "      <th>26</th>\n",
       "      <td>27</td>\n",
       "      <td>Shamirah Ahmed</td>\n",
       "      <td>21</td>\n",
       "      <td>137.16</td>\n",
       "      <td>67</td>\n",
       "    </tr>\n",
       "    <tr>\n",
       "      <th>27</th>\n",
       "      <td>28</td>\n",
       "      <td>Ameso lmmaculate</td>\n",
       "      <td>23</td>\n",
       "      <td>165.10</td>\n",
       "      <td>64</td>\n",
       "    </tr>\n",
       "    <tr>\n",
       "      <th>28</th>\n",
       "      <td>29</td>\n",
       "      <td>Ayoo Teddy</td>\n",
       "      <td>20</td>\n",
       "      <td>157.48</td>\n",
       "      <td>50</td>\n",
       "    </tr>\n",
       "    <tr>\n",
       "      <th>29</th>\n",
       "      <td>30</td>\n",
       "      <td>Biira Mary</td>\n",
       "      <td>30</td>\n",
       "      <td>104.14</td>\n",
       "      <td>65</td>\n",
       "    </tr>\n",
       "    <tr>\n",
       "      <th>30</th>\n",
       "      <td>31</td>\n",
       "      <td>Aloyo Brenda Ojera</td>\n",
       "      <td>23</td>\n",
       "      <td>170.18</td>\n",
       "      <td>52</td>\n",
       "    </tr>\n",
       "    <tr>\n",
       "      <th>31</th>\n",
       "      <td>32</td>\n",
       "      <td>Ayebale Immaculate</td>\n",
       "      <td>24</td>\n",
       "      <td>162.56</td>\n",
       "      <td>50</td>\n",
       "    </tr>\n",
       "  </tbody>\n",
       "</table>\n",
       "</div>"
      ],
      "text/plain": [
       "    S/N                Name  Age  Height  Weight\n",
       "22   23    Nansalire Anitah   21   63.50      45\n",
       "23   24       Nalugo gladys   19  101.60      70\n",
       "24   25      Namakula Allen   20  170.18      55\n",
       "25   26     Tukahirwa emily   22  175.26      67\n",
       "26   27      Shamirah Ahmed   21  137.16      67\n",
       "27   28    Ameso lmmaculate   23  165.10      64\n",
       "28   29          Ayoo Teddy   20  157.48      50\n",
       "29   30          Biira Mary   30  104.14      65\n",
       "30   31  Aloyo Brenda Ojera   23  170.18      52\n",
       "31   32  Ayebale Immaculate   24  162.56      50"
      ]
     },
     "execution_count": 10,
     "metadata": {},
     "output_type": "execute_result"
    }
   ],
   "source": [
    "df.tail(10)"
   ]
  },
  {
   "cell_type": "code",
   "execution_count": 11,
   "metadata": {},
   "outputs": [
    {
     "data": {
      "text/plain": [
       "0     20\n",
       "1     27\n",
       "2     21\n",
       "3     23\n",
       "4     19\n",
       "5     24\n",
       "6     21\n",
       "7     19\n",
       "8     19\n",
       "9     22\n",
       "10    25\n",
       "11    27\n",
       "12    21\n",
       "13    19\n",
       "14    21\n",
       "15    21\n",
       "16    20\n",
       "17    23\n",
       "18    20\n",
       "19    20\n",
       "20    27\n",
       "21    23\n",
       "22    21\n",
       "23    19\n",
       "24    20\n",
       "25    22\n",
       "26    21\n",
       "27    23\n",
       "28    20\n",
       "29    30\n",
       "30    23\n",
       "31    24\n",
       "Name: Age, dtype: int64"
      ]
     },
     "execution_count": 11,
     "metadata": {},
     "output_type": "execute_result"
    }
   ],
   "source": [
    "df.Age"
   ]
  },
  {
   "cell_type": "code",
   "execution_count": 12,
   "metadata": {},
   "outputs": [],
   "source": [
    "#Getting mean of the age,variance and standard deviation"
   ]
  },
  {
   "cell_type": "code",
   "execution_count": 13,
   "metadata": {},
   "outputs": [
    {
     "data": {
      "text/plain": [
       "22.03125"
      ]
     },
     "execution_count": 13,
     "metadata": {},
     "output_type": "execute_result"
    }
   ],
   "source": [
    "df ['Age'].mean()"
   ]
  },
  {
   "cell_type": "code",
   "execution_count": 14,
   "metadata": {},
   "outputs": [
    {
     "data": {
      "text/plain": [
       "7.644153225806452"
      ]
     },
     "execution_count": 14,
     "metadata": {},
     "output_type": "execute_result"
    }
   ],
   "source": [
    "df[ 'Age'].var()"
   ]
  },
  {
   "cell_type": "code",
   "execution_count": 15,
   "metadata": {},
   "outputs": [
    {
     "data": {
      "text/plain": [
       "2.7648061823220904"
      ]
     },
     "execution_count": 15,
     "metadata": {},
     "output_type": "execute_result"
    }
   ],
   "source": [
    "df['Age'].std()"
   ]
  },
  {
   "cell_type": "code",
   "execution_count": 16,
   "metadata": {},
   "outputs": [],
   "source": [
    "#Getting the mean of height,variance and standard deviation"
   ]
  },
  {
   "cell_type": "code",
   "execution_count": 17,
   "metadata": {},
   "outputs": [
    {
     "data": {
      "text/plain": [
       "157.24093750000003"
      ]
     },
     "execution_count": 17,
     "metadata": {},
     "output_type": "execute_result"
    }
   ],
   "source": [
    "df['Height'].mean()"
   ]
  },
  {
   "cell_type": "code",
   "execution_count": 18,
   "metadata": {},
   "outputs": [
    {
     "data": {
      "text/plain": [
       "978.2376023185485"
      ]
     },
     "execution_count": 18,
     "metadata": {},
     "output_type": "execute_result"
    }
   ],
   "source": [
    "df['Height'].var()"
   ]
  },
  {
   "cell_type": "code",
   "execution_count": 19,
   "metadata": {},
   "outputs": [
    {
     "data": {
      "text/plain": [
       "31.276790153699412"
      ]
     },
     "execution_count": 19,
     "metadata": {},
     "output_type": "execute_result"
    }
   ],
   "source": [
    "df['Height'].std()"
   ]
  },
  {
   "cell_type": "code",
   "execution_count": 20,
   "metadata": {},
   "outputs": [],
   "source": [
    "#Getting the mean of weight, variance and standard deviation"
   ]
  },
  {
   "cell_type": "code",
   "execution_count": 21,
   "metadata": {},
   "outputs": [
    {
     "data": {
      "text/plain": [
       "58.5"
      ]
     },
     "execution_count": 21,
     "metadata": {},
     "output_type": "execute_result"
    }
   ],
   "source": [
    "df['Weight'].mean()"
   ]
  },
  {
   "cell_type": "code",
   "execution_count": 22,
   "metadata": {},
   "outputs": [
    {
     "data": {
      "text/plain": [
       "110.51612903225806"
      ]
     },
     "execution_count": 22,
     "metadata": {},
     "output_type": "execute_result"
    }
   ],
   "source": [
    "df['Weight'].var()"
   ]
  },
  {
   "cell_type": "code",
   "execution_count": 23,
   "metadata": {},
   "outputs": [
    {
     "data": {
      "text/plain": [
       "10.512665172650467"
      ]
     },
     "execution_count": 23,
     "metadata": {},
     "output_type": "execute_result"
    }
   ],
   "source": [
    "df[\"Weight\"].std()"
   ]
  }
 ],
 "metadata": {
  "kernelspec": {
   "display_name": "Python 3",
   "language": "python",
   "name": "python3"
  },
  "language_info": {
   "codemirror_mode": {
    "name": "ipython",
    "version": 3
   },
   "file_extension": ".py",
   "mimetype": "text/x-python",
   "name": "python",
   "nbconvert_exporter": "python",
   "pygments_lexer": "ipython3",
   "version": "3.11.5"
  },
  "orig_nbformat": 4
 },
 "nbformat": 4,
 "nbformat_minor": 2
}
